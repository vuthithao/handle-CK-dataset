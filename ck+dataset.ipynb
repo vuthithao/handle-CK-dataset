{
 "cells": [
  {
   "cell_type": "code",
   "execution_count": 7,
   "metadata": {},
   "outputs": [],
   "source": [
    "import numpy as np\n",
    "import os\n",
    "from pathlib import Path\n",
    "import shutil\n",
    "import math"
   ]
  },
  {
   "cell_type": "code",
   "execution_count": 8,
   "metadata": {},
   "outputs": [],
   "source": [
    "import numpy as np\n",
    "import cv2\n",
    "from keras.preprocessing import image\n",
    "import time\n",
    "import align.detect_face\n",
    "import os\n",
    "\n",
    "import tensorflow as tf\n",
    "from keras.applications.imagenet_utils import preprocess_input, decode_predictions\n",
    "from keras.models import load_model\n",
    "from keras.models import model_from_json\n",
    "import scipy"
   ]
  },
  {
   "cell_type": "code",
   "execution_count": 9,
   "metadata": {},
   "outputs": [],
   "source": [
    "emotion = \"/home/topica/Downloads/extended-cohn-kanade-images/cohn-kanade-images\"\n",
    "labels = \"/home/topica/Downloads/Emotion_labels/Emotion\"\n",
    "out_put = \"/home/topica/workspace/data_ckp_crop\""
   ]
  },
  {
   "cell_type": "code",
   "execution_count": 10,
   "metadata": {},
   "outputs": [],
   "source": [
    "list_person = os.listdir(labels)"
   ]
  },
  {
   "cell_type": "code",
   "execution_count": 11,
   "metadata": {},
   "outputs": [],
   "source": [
    "# facenet \n",
    "image_size=224\n",
    "margin= 44\n",
    "gpu_memory_fraction=1.0\n",
    "\n",
    "def load_and_align_data(image_path, image_size,margin, gpu_memory_fraction):\n",
    "    minsize = 20 # minimum size of face\n",
    "    threshold = [ 0.6, 0.7, 0.7 ]  # three steps's threshold\n",
    "    factor = 0.709 # scale factor\n",
    "    with tf.Graph().as_default():\n",
    "        gpu_options = tf.GPUOptions(per_process_gpu_memory_fraction=gpu_memory_fraction)\n",
    "        sess = tf.Session(config=tf.ConfigProto(gpu_options=gpu_options, log_device_placement=False))\n",
    "        with sess.as_default():\n",
    "            pnet, rnet, onet = align.detect_face.create_mtcnn(sess, None)\n",
    "    img = cv2.imread(os.path.expanduser(image_path))\n",
    "    img_size = np.asarray(img.shape)[0:2]\n",
    "    bounding_boxes, _ = align.detect_face.detect_face(img, minsize, pnet, rnet, onet, threshold, factor)\n",
    "    if (len(bounding_boxes)==0):\n",
    "        bb=0\n",
    "        have_face = 0\n",
    "    else:\n",
    "        det = np.squeeze(bounding_boxes[0,0:4])\n",
    "        bb = np.zeros(4, dtype=np.int32)\n",
    "        bb[0] = np.maximum(det[0]-margin/2, 0)\n",
    "        bb[1] = np.maximum(det[1]-margin/2, 0)\n",
    "        bb[2] = np.minimum(det[2]+margin/2 - bb[0], img_size[1])\n",
    "        bb[3] = np.minimum(det[3]+margin/2 - bb[1], img_size[0])\n",
    "        have_face = 1\n",
    "    return bb,have_face"
   ]
  },
  {
   "cell_type": "code",
   "execution_count": null,
   "metadata": {},
   "outputs": [
    {
     "name": "stdout",
     "output_type": "stream",
     "text": [
      "6\n",
      "3\n",
      "3\n",
      "6\n",
      "2\n",
      "3\n",
      "6\n",
      "3\n",
      "5\n",
      "7\n",
      "6\n",
      "3\n",
      "8\n",
      "3\n",
      "6\n",
      "3\n",
      "3\n",
      "5\n",
      "4\n",
      "3\n",
      "6\n",
      "6\n",
      "4\n",
      "4\n",
      "3\n",
      "3\n",
      "3\n",
      "3\n",
      "4\n",
      "2\n",
      "5\n",
      "6\n",
      "3\n",
      "3\n",
      "2\n",
      "3\n",
      "3\n",
      "4\n",
      "2\n",
      "5\n",
      "6\n",
      "4\n",
      "1\n",
      "3\n",
      "5\n",
      "3\n",
      "7\n",
      "3\n"
     ]
    }
   ],
   "source": [
    "for i in range(len(list_person)):\n",
    "    list_emo = os.listdir(os.path.join(labels,list_person[i]))\n",
    "    for j in range(len(list_emo)):\n",
    "        emo_dir = os.path.join(labels,list_person[i], list_emo[j])\n",
    "        img_dir = os.path.join(emotion, list_person[i], list_emo[j])\n",
    "        list_img = os.listdir(img_dir)\n",
    "        list_img = sorted(list_img)\n",
    "        emo_file_list = os.listdir(emo_dir)\n",
    "        if len(emo_file_list)!= 0:\n",
    "            emo = open(os.path.join(emo_dir,emo_file_list[0]), \"r\").read()\n",
    "            emo = emo.split(\".\")[0]\n",
    "            emo = str(int(emo))\n",
    "            threshold = math.floor((len(list_img)-1)*0.3)\n",
    "            print(threshold)\n",
    "            for m in range(threshold - 1):\n",
    "                image_path = os.path.join(img_dir, list_img[m])\n",
    "                detect_face, have_face = load_and_align_data(image_path,image_size,margin,gpu_memory_fraction)\n",
    "                if have_face != 0:        \n",
    "                    detect_face = np.reshape(detect_face,(-1,4)) \n",
    "                    img = cv2.imread(image_path)\n",
    "                    for (x,y,w,h) in detect_face:\n",
    "                        detected_face = img[int(y):int(y+h), int(x):int(x+w)] #crop detected face\n",
    "                    cv2.imwrite(os.path.join(out_put,'8',list_img[m]),detected_face)\n",
    "#                 shutil.copy2(img, os.path.join(out_put,'8',list_img[m]))\n",
    "            for m in range(threshold,len(list_img)):\n",
    "                image_path = os.path.join(img_dir, list_img[m])\n",
    "                detect_face, have_face = load_and_align_data(image_path,image_size,margin,gpu_memory_fraction)\n",
    "                if have_face != 0:        \n",
    "                    detect_face = np.reshape(detect_face,(-1,4)) \n",
    "                    img = cv2.imread(image_path)\n",
    "                    for (x,y,w,h) in detect_face:\n",
    "                        detected_face = img[int(y):int(y+h), int(x):int(x+w)] #crop detected face\n",
    "                    cv2.imwrite(os.path.join(out_put,emo,list_img[m]),detected_face)\n",
    "#                 shutil.copy2(img, os.path.join(out_put,emo,list_img[m]))"
   ]
  },
  {
   "cell_type": "code",
   "execution_count": null,
   "metadata": {},
   "outputs": [],
   "source": []
  },
  {
   "cell_type": "code",
   "execution_count": null,
   "metadata": {},
   "outputs": [],
   "source": []
  },
  {
   "cell_type": "code",
   "execution_count": null,
   "metadata": {},
   "outputs": [],
   "source": []
  }
 ],
 "metadata": {
  "kernelspec": {
   "display_name": "Python 3",
   "language": "python",
   "name": "python3"
  },
  "language_info": {
   "codemirror_mode": {
    "name": "ipython",
    "version": 3
   },
   "file_extension": ".py",
   "mimetype": "text/x-python",
   "name": "python",
   "nbconvert_exporter": "python",
   "pygments_lexer": "ipython3",
   "version": "3.6.6"
  }
 },
 "nbformat": 4,
 "nbformat_minor": 2
}
